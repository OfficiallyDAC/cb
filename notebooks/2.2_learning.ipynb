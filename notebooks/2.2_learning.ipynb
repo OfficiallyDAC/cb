{
 "cells": [
  {
   "cell_type": "markdown",
   "metadata": {},
   "source": [
    "# Summary\n",
    "This notebook applies SS-CASTLE, mutual information, partial correlation, Pearson's correlation, DTF, and PDC to the data generated in `2.1_generate_synth_data.ipynb`."
   ]
  },
  {
   "cell_type": "code",
   "execution_count": 1,
   "metadata": {},
   "outputs": [],
   "source": [
    "import sys\n",
    "sys.path.insert(0, r\"..\\code\")\n",
    "\n",
    "import numpy as np\n",
    "\n",
    "from utils import save_obj, load_obj\n",
    "\n",
    "from MSCASTLE import SSCASTLE\n",
    "from metrics import get_DAG, count_accuracy\n",
    "from pdc_dtf import PDC, DTF, mvar_fit\n",
    "from tqdm.notebook import tqdm\n",
    "from sklearn.feature_selection import mutual_info_regression\n",
    "import matplotlib.pyplot as plt"
   ]
  },
  {
   "cell_type": "code",
   "execution_count": 2,
   "metadata": {},
   "outputs": [],
   "source": [
    "data_dir=\"../data/\"\n",
    "ts_dir=\"../data/TimeSeriesAAL/\" \n",
    "processed=\"../data/processed/\"\n",
    "diffreg=\"../data/processed/diff_regions/\""
   ]
  },
  {
   "cell_type": "code",
   "execution_count": 3,
   "metadata": {},
   "outputs": [
    {
     "name": "stdout",
     "output_type": "stream",
     "text": [
      "S: # of subjects;\n",
      "K: # of ts;\n",
      "T: length of ts;\n",
      "X_skt: data generated from the causal structure;\n",
      "C_skk: causal structure;\n",
      "B_kk: backbone.\n"
     ]
    }
   ],
   "source": [
    "data=load_obj(\"2.1_data\", processed)\n",
    "\n",
    "print(data['info'])\n",
    "\n",
    "S,K,T=data[0]['X_skt'].shape\n",
    "nsims=50"
   ]
  },
  {
   "cell_type": "code",
   "execution_count": 4,
   "metadata": {},
   "outputs": [],
   "source": [
    "replace=False\n",
    "verbose=False"
   ]
  },
  {
   "cell_type": "markdown",
   "metadata": {},
   "source": [
    "# Simulate"
   ]
  },
  {
   "cell_type": "code",
   "execution_count": 5,
   "metadata": {},
   "outputs": [],
   "source": [
    "lmbds=[1.e-3, 5.e-3, 1.e-2, 5.e-2, 1.e-1, 5.e-1]\n",
    "\n",
    "if replace:\n",
    "    \n",
    "    results=dict()\n",
    "    \n",
    "    for sim in tqdm(range(nsims)):\n",
    "        X_skt=data[sim]['X_skt']\n",
    "        C_skk=data[sim]['C_skk']\n",
    "\n",
    "        results[sim]=dict()\n",
    "\n",
    "        for s in tqdm(range(S)):\n",
    "            \n",
    "            results[sim][s]=dict()\n",
    "            ts = X_skt[s].T\n",
    "\n",
    "            for lmbd in lmbds:\n",
    "                results[sim][s][lmbd]=dict()\n",
    "                sscastle = SSCASTLE(ts, lag=0)\n",
    "                C,_ = sscastle.solver(reg='l1', lmbd=lmbd, thresh=.1, h_tol=1.e-10, interval=(-1., 1.), verbose=verbose)\n",
    "                results[sim][s][lmbd]['C_hat']=np.squeeze(C)\n",
    "                results[sim][s][lmbd]['metrics causal discovery'] = count_accuracy(get_DAG(C_skk[s]), get_DAG(results[sim][s][lmbd]['C_hat']))    \n",
    "                \n",
    "            mutual_info_matrix = np.eye(K)\n",
    "            for i in range(K-1):\n",
    "                mutual_info_matrix[i,i+1:] += mutual_info_regression(ts[...,i+1:], ts[...,i])\n",
    "            mutual_info_matrix+=np.triu(mutual_info_matrix,k=1).T\n",
    "            results[sim][s]['MI']=mutual_info_matrix\n",
    "            \n",
    "            P = np.linalg.inv(np.cov(ts, rowvar=False))\n",
    "            D = np.diag(np.diag(P)**(-1/2))\n",
    "            R = - D @ P @ D\n",
    "            results[sim][s]['PC'] = R\n",
    "\n",
    "            results[sim][s]['Corr'] = np.corrcoef(ts, rowvar=False) \n",
    "\n",
    "            A_est, sigma = mvar_fit(ts.T, p=1)\n",
    "            sigma = np.diag(sigma)  # DTF + PDC support diagonal noise\n",
    "\n",
    "            #DTF\n",
    "            dtf, _ = DTF(A_est, sigma)\n",
    "            dtf1=np.linalg.norm(dtf, ord=2, axis=0)\n",
    "            ddtf1=np.diag(np.diag(dtf1)**(-.5))\n",
    "            dtf2=ddtf1@dtf1@ddtf1\n",
    "            results[sim][s]['DTF'] = dtf2.T\n",
    "            \n",
    "            #PDC\n",
    "            pdc, _ = PDC(A_est, sigma)\n",
    "            pdc1=np.linalg.norm(pdc, ord=2, axis=0)\n",
    "            dpdc1=np.diag(np.diag(pdc1)**(-.5))\n",
    "            pdc2=dpdc1@pdc1@dpdc1\n",
    "            results[sim][s]['PDC'] = pdc2.T\n",
    "\n",
    "    save_obj(results, \"2.2_synth_results\", processed)\n",
    "else:\n",
    "    results=load_obj(\"2.2_synth_results\", processed)"
   ]
  }
 ],
 "metadata": {
  "kernelspec": {
   "display_name": "MCSLTgcastle",
   "language": "python",
   "name": "python3"
  },
  "language_info": {
   "codemirror_mode": {
    "name": "ipython",
    "version": 3
   },
   "file_extension": ".py",
   "mimetype": "text/x-python",
   "name": "python",
   "nbconvert_exporter": "python",
   "pygments_lexer": "ipython3",
   "version": "3.10.12"
  },
  "orig_nbformat": 4
 },
 "nbformat": 4,
 "nbformat_minor": 2
}
