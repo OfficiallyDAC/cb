{
 "cells": [
  {
   "cell_type": "markdown",
   "metadata": {},
   "source": [
    "# Summary\n",
    "This notebook contains the code for generating the data used in the synthetic experiments."
   ]
  },
  {
   "cell_type": "code",
   "execution_count": 1,
   "metadata": {},
   "outputs": [],
   "source": [
    "import sys\n",
    "sys.path.insert(0, r\"..\\code\")\n",
    "\n",
    "import jax\n",
    "import jax.numpy as jnp\n",
    "import numpy as np\n",
    "\n",
    "from jax import random\n",
    "from utils import save_obj, load_obj\n",
    "from jax.numpy.linalg import pinv"
   ]
  },
  {
   "cell_type": "code",
   "execution_count": 2,
   "metadata": {},
   "outputs": [],
   "source": [
    "data_dir=\"../data/\"\n",
    "ts_dir=\"../data/TimeSeriesAAL/\" \n",
    "processed=\"../data/processed/\"\n",
    "diffreg=\"../data/processed/diff_regions/\""
   ]
  },
  {
   "cell_type": "code",
   "execution_count": 3,
   "metadata": {},
   "outputs": [],
   "source": [
    "replace=False"
   ]
  },
  {
   "cell_type": "code",
   "execution_count": 4,
   "metadata": {},
   "outputs": [],
   "source": [
    "def backbone(K, density, seed):\n",
    "    key = random.PRNGKey(seed)\n",
    "    mask=jax.random.bernoulli(key, density, shape=(1,K,K))\n",
    "    triu = jnp.triu(jnp.ones((1,K,K)), k=1)\n",
    "    return mask*triu\n",
    "\n",
    "def SEM(K, T, density, S=1, with_backbone=True, density_backbone=.3, seed=42, seed_backbone=24):\n",
    "    \"\"\"\n",
    "    This function generates data from a SEM, \n",
    "    with strictly upper triangular matrix. \n",
    "    \"\"\"\n",
    "    \n",
    "    key = random.PRNGKey(seed)\n",
    "    weight_matrix=jax.random.uniform(key, shape=(S,K,K), minval=-1, maxval=1)\n",
    "    new_key, subkey = random.split(key)\n",
    "    \n",
    "    mask=jax.random.bernoulli(subkey, density, shape=(S*K*K,)).reshape(S,K,K)\n",
    "    triu = jnp.triu(jnp.ones((1,K,K)), k=1)\n",
    "    \n",
    "    Pi = mask*triu\n",
    "\n",
    "    if with_backbone:\n",
    "        backbone_1kk= backbone(K, density_backbone, seed_backbone)\n",
    "        Pi = jnp.sign(Pi+backbone_1kk)\n",
    "\n",
    "    causal_matrix=Pi*weight_matrix\n",
    "\n",
    "    new_key1, subkey1 = random.split(new_key)\n",
    "    I_aug=jnp.ones((S,1,1))*jnp.eye(K)\n",
    "    #generate noise Z with dim (S,K,T)\n",
    "    Z=jax.random.normal(subkey1, shape=(S,K,T))\n",
    "    #compute M=(1-C.T)^-1\n",
    "    vpinv=jax.vmap(pinv,0,0)\n",
    "    M=vpinv(I_aug - jnp.transpose(causal_matrix, (0,2,1)))\n",
    "    #generate X=MZ\n",
    "    X=jnp.einsum(\"skp,spt->skt\",M,Z) \n",
    "\n",
    "    if backbone:\n",
    "        return X, causal_matrix, jnp.squeeze(backbone_1kk, axis=0)\n",
    "    return X, causal_matrix"
   ]
  },
  {
   "cell_type": "code",
   "execution_count": 5,
   "metadata": {},
   "outputs": [
    {
     "name": "stderr",
     "output_type": "stream",
     "text": [
      "No GPU/TPU found, falling back to CPU. (Set TF_CPP_MIN_LOG_LEVEL=0 and rerun for more info.)\n"
     ]
    }
   ],
   "source": [
    "S,K,T=100,10,1200\n",
    "density=.5\n",
    "density_backbone=.25\n",
    "nsims = 50\n",
    "\n",
    "seed_backbone=24\n",
    "seeds=np.arange(50)\n",
    "\n",
    "if replace:\n",
    "    data = dict()\n",
    "    data['info']=\"S: # of subjects;\\nK: # of ts;\\nT: length of ts;\\nX_skt: data generated from the causal structure;\\nC_skk: causal structure;\\nB_kk: backbone.\"\n",
    "\n",
    "    for sim in range(nsims):\n",
    "        data[sim]=dict()\n",
    "        X, causal_matrix, backbone_kk = SEM(K=K, T=T, density=density, S=S, with_backbone=True, density_backbone=density_backbone, seed=seeds[sim], seed_backbone=seed_backbone)\n",
    "        data[sim]['(seed, seed_backbone)']=(seeds[sim], seed_backbone)\n",
    "        data[sim]['X_skt'] = np.array(X)\n",
    "        data[sim]['C_skk'] = np.array(causal_matrix)\n",
    "        data[sim]['B_kk'] = np.array(backbone_kk)\n",
    "\n",
    "    save_obj(data, \"2.1_data\", processed)\n",
    "else:\n",
    "    data=load_obj(\"2.1_data\", processed)"
   ]
  }
 ],
 "metadata": {
  "kernelspec": {
   "display_name": "SPCG",
   "language": "python",
   "name": "python3"
  },
  "language_info": {
   "codemirror_mode": {
    "name": "ipython",
    "version": 3
   },
   "file_extension": ".py",
   "mimetype": "text/x-python",
   "name": "python",
   "nbconvert_exporter": "python",
   "pygments_lexer": "ipython3",
   "version": "3.10.12"
  },
  "orig_nbformat": 4
 },
 "nbformat": 4,
 "nbformat_minor": 2
}
